{
 "cells": [
  {
   "cell_type": "code",
   "execution_count": 1,
   "id": "49f0a736-4c67-474b-9e04-ceb9199ff233",
   "metadata": {},
   "outputs": [],
   "source": [
    "import numpy as np\n",
    "from IPython.display import display"
   ]
  },
  {
   "cell_type": "code",
   "execution_count": 9,
   "id": "9f83e020-0d8b-4d28-965d-4517351a8010",
   "metadata": {},
   "outputs": [
    {
     "data": {
      "text/plain": [
       "array([ 1,  2,  3,  4,  5,  6,  7,  8,  9, 10, 11, 12, 13, 14, 15, 16])"
      ]
     },
     "metadata": {},
     "output_type": "display_data"
    },
    {
     "data": {
      "text/plain": [
       "array([[ 1,  2,  3,  4],\n",
       "       [ 5,  6,  7,  8],\n",
       "       [ 9, 10, 11, 12],\n",
       "       [13, 14, 15, 16]])"
      ]
     },
     "metadata": {},
     "output_type": "display_data"
    }
   ],
   "source": [
    "# 1 \n",
    "numpy_array = np.arange(1, 17)\n",
    "display(numpy_array)\n",
    "display(numpy_array.reshape(4, 4))"
   ]
  },
  {
   "cell_type": "code",
   "execution_count": 11,
   "id": "ba21ffa6-6feb-4536-8517-8bdc3d19857f",
   "metadata": {},
   "outputs": [
    {
     "data": {
      "text/plain": [
       "array([[10, 15, 20, 25],\n",
       "       [30, 35, 40, 45]])"
      ]
     },
     "metadata": {},
     "output_type": "display_data"
    }
   ],
   "source": [
    "# 2 \n",
    "ar_array = np.arange(10, 50, 5)\n",
    "reshaped_array = ar_array.reshape(2, 4)\n",
    "display(reshaped_array)"
   ]
  },
  {
   "cell_type": "code",
   "execution_count": 13,
   "id": "832e4074-7a7f-48ba-99cc-4362d3cf5209",
   "metadata": {},
   "outputs": [],
   "source": [
    "# 3\n",
    "np.random.seed(10)"
   ]
  },
  {
   "cell_type": "code",
   "execution_count": 35,
   "id": "46784d03-b241-41cd-bce5-20718fbcc14e",
   "metadata": {},
   "outputs": [
    {
     "data": {
      "text/plain": [
       "'rand_array:'"
      ]
     },
     "metadata": {},
     "output_type": "display_data"
    },
    {
     "data": {
      "text/plain": [
       "array([[72, 35, 97],\n",
       "       [41, 86, 91],\n",
       "       [27, 84, 17]])"
      ]
     },
     "metadata": {},
     "output_type": "display_data"
    },
    {
     "name": "stdout",
     "output_type": "stream",
     "text": [
      "max: 97\n",
      "min: 17\n"
     ]
    }
   ],
   "source": [
    "rand_array = np.random.randint(1, 101, (3, 3))\n",
    "display('rand_array:', rand_array)\n",
    "print('max:', rand_array.max())\n",
    "print('min:', rand_array.min())"
   ]
  },
  {
   "cell_type": "code",
   "execution_count": 45,
   "id": "ba1258ba-1914-4f2f-8c21-b07b968aa63a",
   "metadata": {},
   "outputs": [],
   "source": [
    "# 4\n",
    "np.random.seed(20)"
   ]
  },
  {
   "cell_type": "code",
   "execution_count": 65,
   "id": "ad7d8b54-fca7-4f43-a329-0b4700a78e66",
   "metadata": {},
   "outputs": [
    {
     "data": {
      "text/plain": [
       "'rand_array:'"
      ]
     },
     "metadata": {},
     "output_type": "display_data"
    },
    {
     "data": {
      "text/plain": [
       "array([10, 11,  6, 11, 18,  3, 13, 17, 11, 16])"
      ]
     },
     "metadata": {},
     "output_type": "display_data"
    },
    {
     "data": {
      "text/plain": [
       "'index:'"
      ]
     },
     "metadata": {},
     "output_type": "display_data"
    },
    {
     "data": {
      "text/plain": [
       "array([0, 1, 2, 3, 4, 5, 6, 7, 8, 9])"
      ]
     },
     "metadata": {},
     "output_type": "display_data"
    }
   ],
   "source": [
    "rand_array = np.random.randint(0, 21, 10)\n",
    "display('rand_array:', rand_array)\n",
    "display('index:', np.arange(0, 10))"
   ]
  },
  {
   "cell_type": "code",
   "execution_count": 67,
   "id": "fe6c1938-2db2-4b10-bbb8-2e0dd62dab26",
   "metadata": {},
   "outputs": [
    {
     "data": {
      "text/plain": [
       "'rand_array[:5]:'"
      ]
     },
     "metadata": {},
     "output_type": "display_data"
    },
    {
     "data": {
      "text/plain": [
       "array([10, 11,  6, 11, 18])"
      ]
     },
     "metadata": {},
     "output_type": "display_data"
    }
   ],
   "source": [
    "# 4 - 1.\n",
    "display('rand_array[:5]:', rand_array[:5])"
   ]
  },
  {
   "cell_type": "code",
   "execution_count": 69,
   "id": "190692b1-f6c4-4bf6-8203-3d09a184da96",
   "metadata": {},
   "outputs": [
    {
     "data": {
      "text/plain": [
       "'rand_array[::2]:'"
      ]
     },
     "metadata": {},
     "output_type": "display_data"
    },
    {
     "data": {
      "text/plain": [
       "array([10,  6, 18, 13, 11])"
      ]
     },
     "metadata": {},
     "output_type": "display_data"
    }
   ],
   "source": [
    "# 4 - 2.\n",
    "display('rand_array[::2]:', rand_array[::2])"
   ]
  },
  {
   "cell_type": "code",
   "execution_count": 71,
   "id": "c695e160-1318-475c-b33b-324bd64999e6",
   "metadata": {},
   "outputs": [
    {
     "data": {
      "text/plain": [
       "'rand_array[::-1]:'"
      ]
     },
     "metadata": {},
     "output_type": "display_data"
    },
    {
     "data": {
      "text/plain": [
       "array([16, 11, 17, 13,  3, 18, 11,  6, 11, 10])"
      ]
     },
     "metadata": {},
     "output_type": "display_data"
    }
   ],
   "source": [
    "# 4 - 3.\n",
    "display('rand_array[::-1]:', rand_array[::-1])"
   ]
  },
  {
   "cell_type": "code",
   "execution_count": 79,
   "id": "a4534907-9f95-4197-b7ef-908b055c2a9a",
   "metadata": {},
   "outputs": [
    {
     "data": {
      "text/plain": [
       "array([[31, 37,  9, 49, 20],\n",
       "       [49, 32, 11, 39, 10],\n",
       "       [24, 33, 13, 15, 32],\n",
       "       [18, 10, 28, 39, 43]])"
      ]
     },
     "metadata": {},
     "output_type": "display_data"
    },
    {
     "data": {
      "text/plain": [
       "'arr[2][4]:'"
      ]
     },
     "metadata": {},
     "output_type": "display_data"
    },
    {
     "data": {
      "text/plain": [
       "32"
      ]
     },
     "metadata": {},
     "output_type": "display_data"
    }
   ],
   "source": [
    "# 5 \n",
    "arr = np.random.randint(1, 51, (4, 5))\n",
    "display(arr)\n",
    "display('arr[2][4]:', arr[2][4])"
   ]
  },
  {
   "cell_type": "code",
   "execution_count": 81,
   "id": "268d3608-00b3-4810-87f9-0fa568b02bab",
   "metadata": {},
   "outputs": [],
   "source": [
    "# 6\n",
    "np.random.seed(30)"
   ]
  },
  {
   "cell_type": "code",
   "execution_count": 93,
   "id": "4f8e4fbb-72ba-4424-8b24-104b908e5c09",
   "metadata": {},
   "outputs": [
    {
     "data": {
      "text/plain": [
       "array([26, 78, 91, 19, 30, 49, 93, 52, 44, 61, 34, 79, 43, 28, 60])"
      ]
     },
     "metadata": {},
     "output_type": "display_data"
    },
    {
     "name": "stdout",
     "output_type": "stream",
     "text": [
      "argmax: 6\n",
      "argmin: 3\n"
     ]
    }
   ],
   "source": [
    "ran_array = np.random.randint(0, 101, 15)\n",
    "display(ran_array)\n",
    "print('argmax:', ran_array.argmax())\n",
    "print('argmin:', ran_array.argmin())"
   ]
  },
  {
   "cell_type": "code",
   "execution_count": 99,
   "id": "f1b07217-b8e2-4681-bf56-8a95b79f7101",
   "metadata": {},
   "outputs": [],
   "source": [
    "#6 - 1.\n",
    "ran_array = np.random.randint(0, 101, 15)\n",
    "np.save('fifteen.npy', ran_array)\n",
    "\n",
    "ran_array = np.load('fifteen.npy')"
   ]
  },
  {
   "cell_type": "code",
   "execution_count": 107,
   "id": "84d395de-5ae5-43a1-848f-7e83402c2e5f",
   "metadata": {},
   "outputs": [
    {
     "data": {
      "text/plain": [
       "'ran_array % 5:'"
      ]
     },
     "metadata": {},
     "output_type": "display_data"
    },
    {
     "data": {
      "text/plain": [
       "[array([False, False, False,  True, False, False,  True,  True, False,\n",
       "         True, False, False, False, False, False])]"
      ]
     },
     "metadata": {},
     "output_type": "display_data"
    },
    {
     "data": {
      "text/plain": [
       "'ran_array % 5'"
      ]
     },
     "metadata": {},
     "output_type": "display_data"
    },
    {
     "data": {
      "text/plain": [
       "array([2, 3, 4, 0, 1, 3, 0, 0, 4, 0, 1, 3, 1, 4, 4], dtype=int32)"
      ]
     },
     "metadata": {},
     "output_type": "display_data"
    }
   ],
   "source": [
    "# 6 - 2.\n",
    "display('ran_array % 5:', [(ran_array % 5 == 0)])\n",
    "display('ran_array % 5', ran_array % 5)"
   ]
  },
  {
   "cell_type": "code",
   "execution_count": 109,
   "id": "8988edaf-830e-4540-800c-ae348486c02a",
   "metadata": {},
   "outputs": [
    {
     "data": {
      "text/plain": [
       "array([58,  9, 71, 55, 80])"
      ]
     },
     "metadata": {},
     "output_type": "display_data"
    }
   ],
   "source": [
    "# 6 - 3.\n",
    "display(ran_array[(ran_array > 50) | (ran_array < 10)])"
   ]
  },
  {
   "cell_type": "code",
   "execution_count": 123,
   "id": "ae894aa5-c105-450e-bb96-ec9db8ae1292",
   "metadata": {},
   "outputs": [],
   "source": [
    "# Bonus\n",
    "# ??"
   ]
  }
 ],
 "metadata": {
  "kernelspec": {
   "display_name": "Python 3 (ipykernel)",
   "language": "python",
   "name": "python3"
  },
  "language_info": {
   "codemirror_mode": {
    "name": "ipython",
    "version": 3
   },
   "file_extension": ".py",
   "mimetype": "text/x-python",
   "name": "python",
   "nbconvert_exporter": "python",
   "pygments_lexer": "ipython3",
   "version": "3.12.7"
  }
 },
 "nbformat": 4,
 "nbformat_minor": 5
}
